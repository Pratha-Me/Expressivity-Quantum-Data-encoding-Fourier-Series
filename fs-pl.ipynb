{
 "cells": [
  {
   "cell_type": "markdown",
   "metadata": {},
   "source": [
    "## Fourier series and Data encoding for QML\n",
    "\n",
    "Besides from practical approach of QML, the authors of [this article](https://arxiv.org/pdf/2008.08605.pdf) has shown the data encoding can be encapsulated in [Fourier series](https://mathworld.wolfram.com/FourierSeries.html). The underlying assumption for such demonstration is the encoder is an unitary gate in the form of $e^(-ixH)$. H is some arbitary Hamiltonian of the system and x is the data to encode. This sums down to evolution of the state by 'x' amount, moreover, if we take H to be a Pauli gate then the evolution turns into rotation of the state. \n",
    "\n",
    "The authors then goes on to demonstrate the link between different terms in Fourier series and the elements of the Quantum model. A quick glimpse on what are the links are below.\n",
    "\n",
    "The series is written as,<br></br> \n",
    "$f_{\\theta}(x) = \\Sigma_{\\omega\\in\\Omega} c_\\omega(\\theta)e^{i\\omega x}$\n",
    "\n",
    "The Time evolution of quantum state in Schrodinger's picture becomes pretty handy here. The Hamiltonian operator is replaced with it's eigenvalues and multiplied with the respective eigenvector to evolve the eigenstate. The linear superposition of all such operations are deemed as the evolution of the entire quantum state. A similar fashion can be observed in the above fourier series. The frequency spectrum of the Pauli gates is $\\Omega \\subset \\R^N$, in natural setting this always turns out to be set of spectrum is set of Integers i.e. $\\Omega \\subset \\Z^N$. The Fourier series can be reformulated as below.\n",
    "\n",
    "$f_{\\theta}(x) = \\Sigma_{n\\in\\Omega} c_n(\\theta)e^{in x}$\n",
    "\n",
    "Now back to the main concerns of links, the frequency spectrum is solely determined by the data-encoding Hamiltonian (Pauli gates in this case). The rest of the circuit (Quantum model), including the trainable parameters, determines the co-efficients."
   ]
  },
  {
   "cell_type": "code",
   "execution_count": null,
   "metadata": {},
   "outputs": [],
   "source": []
  }
 ],
 "metadata": {
  "language_info": {
   "name": "python"
  },
  "orig_nbformat": 4
 },
 "nbformat": 4,
 "nbformat_minor": 2
}
